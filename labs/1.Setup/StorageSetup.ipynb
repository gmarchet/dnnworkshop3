{
 "cells": [
  {
   "cell_type": "code",
   "execution_count": 1,
   "metadata": {},
   "outputs": [],
   "source": [
    "# This notebook will mount an azure storage blob and read a file from a container\n",
    "\n",
    "# Start by specifying your storage blob information\n",
    "\n",
    "container = \"<your container name>\"\n",
    "storageAccount = \"<your storage account name> \"  \n",
    "accessKey = \"<your storage account key>\"\n",
    "accountKey=\"fs.azure.account.key.{}.blob.core.windows.net\".format(storageAccount)\n",
    "\n",
    "#print(accountKey)\n",
    "#print(accessKey)\n",
    "#print(storageAccount)\n",
    "\n",
    "# Set the credentials to Spark configuration\n",
    "spark.conf.set(accountKey, accessKey)"
   ]
  },
  {
   "cell_type": "code",
   "execution_count": 2,
   "metadata": {},
   "outputs": [],
   "source": [
    "# This will create a mount point with Databricks FS protocol and request files using a file path\n",
    "# like:  dbfs:/mnt/<container name>/<partial path>\n",
    "\n",
    "inputSource = \"wasbs://{}@{}.blob.core.windows.net\".format(container, storageAccount)\n",
    "mountPoint = \"/mnt/\" + container\n",
    "extraConfig = {accountKey: accessKey}\n",
    "\n",
    "print(\"Mounting: {}\".format(mountPoint))\n",
    "print(inputSource)\n",
    "print(mountPoint)\n",
    "print(extraConfig)\n",
    "\n",
    "try:\n",
    "  dbutils.fs.mount(source = inputSource, mount_point = str(mountPoint),  extra_configs = extraConfig )\n",
    "  print(\"=> Succeeded\")\n",
    "except Exception as e:\n",
    "  if \"Directory already mounted\" in str(e):\n",
    "    print(\"=> Directory {} already mounted\".format(mountPoint))\n",
    "  else:\n",
    "    raise(e)"
   ]
  },
  {
   "cell_type": "code",
   "execution_count": 3,
   "metadata": {},
   "outputs": [],
   "source": [
    "# To test the storage mount works, read a file from the container and print it out\n",
    "\n",
    "# Open and read the file from mounted storage\n",
    "print(container)\n",
    "inputFilePath = \"/dbfs/mnt/{}/{}\".format(container, 'usd_to_eur.csv') \n",
    "file = open(inputFilePath, 'r')\n",
    "print(file.read())\n"
   ]
  },
  {
   "cell_type": "code",
   "execution_count": 4,
   "metadata": {},
   "outputs": [],
   "source": [
    "# Load the data into a dataframe and run some statistics on the data\n",
    "inputFilePath = \"dbfs:/mnt/{}/{}\".format(container, \"usd_to_eur.csv\") \n",
    "df = spark.read.format('csv').load(inputFilePath, header=True, inferSchema=True) \n",
    "df.printSchema() \n",
    "df.describe().show() \n",
    "df.head(5)\n"
   ]
  }
 ],
 "metadata": {
  "kernelspec": {
   "display_name": "Python 3",
   "language": "python",
   "name": "python3"
  },
  "language_info": {
   "codemirror_mode": {
    "name": "ipython",
    "version": 3
   },
   "file_extension": ".py",
   "mimetype": "text/x-python",
   "name": "python",
   "nbconvert_exporter": "python",
   "pygments_lexer": "ipython3",
   "version": "3.6.8"
  },
  "name": "KBTest",
  "notebookId": 3864790702613039
 },
 "nbformat": 4,
 "nbformat_minor": 1
}
